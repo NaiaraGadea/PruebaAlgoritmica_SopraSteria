{
 "cells": [
  {
   "cell_type": "markdown",
   "id": "061a578d-70f3-4d51-ae77-6d385e940338",
   "metadata": {},
   "source": [
    "# Test básico de algorítmica - SOPRA STERIA\n",
    "### Naiara Gadea Rodríguez Gómez\n",
    "#### naiaragadea@gmail.com\n",
    "--------\n",
    "\n",
    "Para realizar esta prueba debes hacer uso de alguno de los siguientes lenguajes de programación: JAVA, C++, C, Python, Matlab... No se evaluarán las pruebas realizadas en pseudocódigo.\r\n",
    "Realiza cada uno de los ejercicios en este mismo documento.\r\n",
    "Si lo prefieres, también puedes realizar las preguntas en un paquete diferente con un IDE a tu elección. A continuación, sube el proyecto a tu cuenta de github, de manera pública, y compárten s el enlace. En su defecto, comprime el proyecto y háznoslo llegar vía email. \r\n",
    "\n",
    "\n",
    "\n"
   ]
  },
  {
   "cell_type": "markdown",
   "id": "6c5f43ac-7622-4552-83de-fe02e2fc9e40",
   "metadata": {},
   "source": [
    "### EJERCICIOS\n",
    "**Ejercicio 1**\n",
    "\n",
    "1.\tEscriba un algoritmo que lea un número entero y determine si es par o impar. Si es par, que escriba todos los pares de manera descendiente desde sí mismo y hasta el cero. Si es impar, que escriba todos los impares de manera descendiente desde si sí mismo hasta el uno. Utilice la instrucción LEER NUMERO al inicio del programa para cargar un número en la variable NUMERO.\r\n",
    "\r\n"
   ]
  },
  {
   "cell_type": "code",
   "execution_count": 9,
   "id": "f5a13558-6efa-4939-9f14-7bfef3a4c95f",
   "metadata": {},
   "outputs": [],
   "source": [
    "# Instrucción LEER NUMERO: para cargar la variable NUMERO\n",
    "def LEER_NUMERO():\n",
    "    '''\n",
    "    Instrucción que sirve para cargar la variable NUMERO\n",
    "    '''\n",
    "    \n",
    "    NUMERO = int(input('Introduce el número que desea leer: '))\n",
    "    return NUMERO\n",
    "\n",
    "# Algoritmo que lea un número entero y determine si es par o impar.\n",
    "def par_impar():\n",
    "    '''\n",
    "    Algortimo que lee un número entero y determina si es par o impar escribiendo la lista de\n",
    "    pares de forma descendiente en caso de ser par, y escribiendo la lista de impares de forma\n",
    "    descendiente en caso de ser impar.\n",
    "    '''\n",
    "    numero = LEER_NUMERO()\n",
    "\n",
    "    lista = list() # Lista que va a contener los números pares o impares de forma descendiente.\n",
    "\n",
    "    # Si es par. Escribir todos los pares de forma descendendiente desde sí mismo hasta 0.\n",
    "    if numero%2==0:\n",
    "        lista = [i for i in range(numero+1) if i%2==0]\n",
    "        lista.reverse()\n",
    "        \n",
    "    # Si es impar. Escribir todos los impares de forma descendiente desde sí mismo hasta 1.\n",
    "    else:\n",
    "        lista = [i for i in range(numero+1) if i%2!=0]\n",
    "        lista.reverse()\n",
    "        \n",
    "    print(lista) # Escribimos por pantalla la lista\n"
   ]
  },
  {
   "cell_type": "code",
   "execution_count": 11,
   "id": "8f1c847e-f33e-4bb3-a3bd-96f7699a30d1",
   "metadata": {},
   "outputs": [
    {
     "name": "stdin",
     "output_type": "stream",
     "text": [
      "Introduce el número que desea leer:  11\n"
     ]
    },
    {
     "name": "stdout",
     "output_type": "stream",
     "text": [
      "[11, 9, 7, 5, 3, 1]\n"
     ]
    }
   ],
   "source": [
    "par_impar()"
   ]
  },
  {
   "cell_type": "markdown",
   "id": "c1452617-8e5f-4aa8-a5e5-5e4327dff246",
   "metadata": {},
   "source": [
    "**Ejercicio 2**\n",
    "\n",
    "2.\tEscriba un algoritmo que visualice una clasificación de 50 personas según edad y sexo. Deberá mostrar los siguientes resultados:\n",
    "\n",
    "a.\tCantidad de personas mayores de edad (18 años o más).\n",
    "\n",
    "b.\tCantidad de personas menores de edad.\n",
    "\n",
    "c.\tCantidad de personas masculinas mayores de edad.\n",
    "\n",
    "d.\tCantidad de personas femeninas menores de edad.\n",
    "\n",
    "e.\tPorcentaje que representan las personas mayores de edad respecto al total de personas.\n",
    "\n",
    "f.\tPorcentaje que representan las mujeres respecto al total de personas.\n",
    "\n",
    "Utilice la instrucción LEER PERSONAS al inicio del programa para cargar los datos de las 50 personas en un variable, PERSONAS, que actúa como un vector de 50 posiciones.\n",
    "Cada elemento de PERSONAS es de un tipo estructurado que dispone dos campos:\n",
    "SEXO y EDAD.\n"
   ]
  },
  {
   "cell_type": "code",
   "execution_count": 23,
   "id": "2700f5f5-83d5-4df5-ab80-ecfb5ef34951",
   "metadata": {},
   "outputs": [],
   "source": [
    "import random\n",
    "# Instrucción LEER PERSONAS: cargar los datos de 50 personas en una variable PERSONAS.\n",
    "# PERSONAS es un vector de 50 posiciones. Cada posición del vector PERSONAS es de un tipo \n",
    "# estructurado que dispone de dos campos: SEXO y EDAD\n",
    "\n",
    "def LEER_PERSONAS():\n",
    "    '''\n",
    "    Instrucción que carga los datos de 50 personas en una varible PERSONAS.\n",
    "    La variable PERSONAS tiene 50 posiciones y cada posicion tiene dos campos SEXO y EDAD.\n",
    "    '''\n",
    "    PERSONAS = list()\n",
    "    num_personas = 50\n",
    "    for persona in range(num_personas):\n",
    "        # Como introducir uno a uno los datos de las personas es largo, se va a introducir de\n",
    "        # forma aleatoria empleando random.choice.\n",
    "        SEXO = random.choice(['Femenino','Masculino'])\n",
    "        EDAD = random.choice(range(100)) # Se va a suponer que las personas no van a tener más \n",
    "                                         # de 99 años.\n",
    "        PERSONAS.append({'SEXO':SEXO, 'EDAD':EDAD})\n",
    "    return PERSONAS\n",
    "\n",
    "# Algoritmo que visualiza una clasificación de 50 personas según edad y sexo.\n",
    "def clasificacion():\n",
    "    '''\n",
    "    Algoritmo que realiza la clasificación de 50 personas según su edad y sexo.\n",
    "    En concreto obtendrá:\n",
    "    a.\tCantidad de personas mayores de edad (18 años o más).\n",
    "    b.\tCantidad de personas menores de edad.\n",
    "    c.\tCantidad de personas masculinas mayores de edad.\n",
    "    d.\tCantidad de personas femeninas menores de edad.\n",
    "    e.\tPorcentaje que representan las personas mayores de edad respecto al total de personas.\n",
    "    f.\tPorcentaje que representan las mujeres respecto al total de personas.\n",
    "    '''\n",
    "    personas = LEER_PERSONAS()\n",
    "    \n",
    "    # Número de personas mayores de edad (+18).\n",
    "    n_mas18 = len([p for p in personas if p['EDAD']>=18])\n",
    "    print('Número de personas mayores de edad (+18):')\n",
    "    print(n_mas18)\n",
    "    \n",
    "    # Número de personas menores de edad (-18).\n",
    "    n_menores = len([p for p in personas if p['EDAD']<18])\n",
    "    print('Número de personas menores de edad (-18):')\n",
    "    print(n_menores)\n",
    "    \n",
    "    # Número de personas masculinas mayores de edad.\n",
    "    n_masc_mas18 = len([p for p in personas if p['EDAD']>=18 and p['SEXO']=='Masculino'])\n",
    "    print('Número de personas masculinas mayores de edad:')\n",
    "    print(n_masc_mas18)\n",
    "    \n",
    "    # Número de personas femeninas menores de edad.\n",
    "    n_fem_menores = len([p for p in personas if p['EDAD']<18 and p['SEXO']=='Femenino'])\n",
    "    print('Número de personas femeninas menores de edad:')\n",
    "    print(n_fem_menores)\n",
    "    \n",
    "    # Porcentaje que representan las personas mayores de edad respecto al total de personas.\n",
    "    porc_mas18 = n_mas18/len(personas)*100\n",
    "    print('Porcentaje que representan las personas mayores de edad respecto al total de personas:')\n",
    "    print(str(porc_mas18)+'%')\n",
    "    \n",
    "    # Porcentaje que representan las mujeres respecto al total de personas.\n",
    "    n_mujeres = len([p for p in personas if p['SEXO']=='Femenino'])\n",
    "    porc_mujeres = n_mujeres/len(personas)*100\n",
    "    print('Porcentaje que representan las mujeres respecto al total de personas:')\n",
    "    print(str(porc_mujeres)+'%')\n",
    "\n"
   ]
  },
  {
   "cell_type": "code",
   "execution_count": 24,
   "id": "97cca7fe-494c-4784-a075-d568133f6ff5",
   "metadata": {},
   "outputs": [
    {
     "data": {
      "text/plain": [
       "50"
      ]
     },
     "execution_count": 24,
     "metadata": {},
     "output_type": "execute_result"
    }
   ],
   "source": [
    "len(LEER_PERSONAS())"
   ]
  },
  {
   "cell_type": "code",
   "execution_count": 31,
   "id": "5e5d08b6-f527-4252-823f-c78d861972a2",
   "metadata": {},
   "outputs": [
    {
     "name": "stdout",
     "output_type": "stream",
     "text": [
      "Número de personas mayores de edad (+18):\n",
      "41\n",
      "Número de personas menores de edad (-18):\n",
      "9\n",
      "Número de personas masculinas mayores de edad:\n",
      "18\n",
      "Número de personas femeninas menores de edad:\n",
      "2\n",
      "Porcentaje que representan las personas mayores de edad respecto al total de personas:\n",
      "82.0%\n",
      "Porcentaje que representan las mujeres respecto al total de personas:\n",
      "50.0%\n"
     ]
    }
   ],
   "source": [
    "clasificacion()"
   ]
  },
  {
   "cell_type": "markdown",
   "id": "0474a89d-1f2b-4f35-8f9b-677e23c0ea0b",
   "metadata": {},
   "source": [
    "**Ejercicio 3**\n",
    "\n",
    "3.\tDesarrolle un algoritmo para el cálculo del salario de un trabajador. El importe liquidado (sueldo) depende de una tarifa o precio por hora establecida y de un condicionante sobre las horas trabajadas: si la cantidad de horas trabajadas es mayor a 40 horas, la tarifa se incrementa en un 50% para las horas extras. Calcular el sueldo recibido por el trabajador en base las horas trabajadas y la tarifa. Utilice las instrucciones LEER HORASTRABAJADAS y LEER TARIFA al inicio del programa para cargar los valores en las variables HORASTRABAJADAS y TARIFA."
   ]
  },
  {
   "cell_type": "code",
   "execution_count": 47,
   "id": "c47b733c-e969-462d-9f38-4f06438a5901",
   "metadata": {},
   "outputs": [],
   "source": [
    "# Instrucción LEER_HORASTRABAJADAS: para cargar el valor de la variable HORASTRABAJADAS.\n",
    "def LEER_HORASTRABAJADAS():\n",
    "    '''\n",
    "    Instrucción que sirve para cargar la variable HORASTRABAJADAS.\n",
    "    '''\n",
    "    HORASTRABAJADAS = int(input('Introduce el número de horas trabajadas: '))\n",
    "    return HORASTRABAJADAS\n",
    "    \n",
    "# Instrucción LEER_TARIFA: para cargar el valor de la tarifa.\n",
    "def LEER_TARIFA():\n",
    "    '''\n",
    "    Instrucción que sirve para cargar la variable TARIFA\n",
    "    '''\n",
    "    TARIFA = int(input('Introduce la tarifa establecida: '))\n",
    "    return TARIFA\n",
    "\n",
    "\n",
    "# Algortimo que calcula el salario de un trabajador.\n",
    "def calcularSalario():\n",
    "    '''\n",
    "    Función que calcula el salario de un trabajador en función de la tarifa estipulada\n",
    "    y las horas trabajadas. Además, se tiene en cuenta que si se han realizado horas extra\n",
    "    en esas horas se incrementa la tarifa en un 50%.\n",
    "    '''\n",
    "    tarifa = LEER_TARIFA()\n",
    "    horas_trabajadas = LEER_HORASTRABAJADAS()\n",
    "    \n",
    "    # El sueldo se calcula a partir de la tarifa y de las horas trabajadas.\n",
    "    if horas_trabajadas<=40:\n",
    "        sueldo = horas_trabajadas*tarifa\n",
    "    # Si el trabajador ha trabajado más de 40 horas, las horas extras se pagan como un 50% más que la \n",
    "    # tarifa establecida.\n",
    "    else:\n",
    "        h_extra = horas_trabajadas-40\n",
    "        nueva_tarifa = tarifa*1.5\n",
    "        sueldo = 40*tarifa + h_extra*nueva_tarifa\n",
    "    \n",
    "    print('Salario semanal: '+str(sueldo)+'€')\n",
    "\n",
    "\n"
   ]
  },
  {
   "cell_type": "code",
   "execution_count": 48,
   "id": "733ecde3-445a-414f-9b6d-c09834fecff6",
   "metadata": {},
   "outputs": [
    {
     "name": "stdin",
     "output_type": "stream",
     "text": [
      "Introduce la tarifa establecida:  10\n",
      "Introduce el número de horas trabajadas:  40\n"
     ]
    },
    {
     "name": "stdout",
     "output_type": "stream",
     "text": [
      "Salario semanal: 400€\n"
     ]
    }
   ],
   "source": [
    "calcularSalario()"
   ]
  },
  {
   "cell_type": "code",
   "execution_count": 49,
   "id": "471885e4-9fff-4186-bab1-7437a31bd806",
   "metadata": {},
   "outputs": [
    {
     "name": "stdin",
     "output_type": "stream",
     "text": [
      "Introduce la tarifa establecida:  10\n",
      "Introduce el número de horas trabajadas:  42\n"
     ]
    },
    {
     "name": "stdout",
     "output_type": "stream",
     "text": [
      "Salario semanal: 430.0€\n"
     ]
    }
   ],
   "source": [
    "calcularSalario()"
   ]
  },
  {
   "cell_type": "code",
   "execution_count": null,
   "id": "a878d6ef-fbfa-42b9-810c-028f24ccf0aa",
   "metadata": {},
   "outputs": [],
   "source": []
  }
 ],
 "metadata": {
  "kernelspec": {
   "display_name": "Python 3 (ipykernel)",
   "language": "python",
   "name": "python3"
  },
  "language_info": {
   "codemirror_mode": {
    "name": "ipython",
    "version": 3
   },
   "file_extension": ".py",
   "mimetype": "text/x-python",
   "name": "python",
   "nbconvert_exporter": "python",
   "pygments_lexer": "ipython3",
   "version": "3.8.19"
  }
 },
 "nbformat": 4,
 "nbformat_minor": 5
}
